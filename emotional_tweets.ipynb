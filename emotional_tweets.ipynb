{
 "cells": [
  {
   "cell_type": "markdown",
   "metadata": {},
   "source": [
    "# **Read dataset**"
   ]
  },
  {
   "cell_type": "code",
   "execution_count": 46,
   "metadata": {},
   "outputs": [],
   "source": [
    "path_train = './data/train.csv'\n",
    "path_test = './data/test.csv'\n",
    "path_example_out = './data/sample_submission.csv'"
   ]
  },
  {
   "cell_type": "code",
   "execution_count": 47,
   "metadata": {},
   "outputs": [],
   "source": [
    "import pandas as pd"
   ]
  },
  {
   "cell_type": "code",
   "execution_count": 48,
   "metadata": {},
   "outputs": [
    {
     "name": "stdout",
     "output_type": "stream",
     "text": [
      "                      Id  Category  \\\n",
      "0  6,35769805279248E+017  negative   \n",
      "1  6,35930169241375E+017   neutral   \n",
      "2  6,35950258682524E+017   neutral   \n",
      "3  6,36030803433009E+017  negative   \n",
      "4  6,36100906224849E+017  positive   \n",
      "5  6,36176272947745E+017   neutral   \n",
      "\n",
      "                                               Tweet  \n",
      "0                                      Not Available  \n",
      "1  IOS 9 App Transport Security. Mm need to check...  \n",
      "2  Mar if you have an iOS device, you should down...  \n",
      "3  @jimmie_vanagon my phone does not run on lates...  \n",
      "4  Not sure how to start your publication on iOS?...  \n",
      "5  Two Dollar Tuesday is here with Forklift 2, Qu...  \n"
     ]
    }
   ],
   "source": [
    "data = pd.read_csv(path_train)\n",
    "print(data[:6])"
   ]
  },
  {
   "cell_type": "markdown",
   "metadata": {},
   "source": [
    "# **Analyse**"
   ]
  },
  {
   "cell_type": "code",
   "execution_count": 49,
   "metadata": {},
   "outputs": [],
   "source": [
    "import seaborn as sns"
   ]
  },
  {
   "cell_type": "code",
   "execution_count": 50,
   "metadata": {},
   "outputs": [
    {
     "data": {
      "text/plain": [
       "<matplotlib.axes._subplots.AxesSubplot at 0x7fd78bee52e8>"
      ]
     },
     "execution_count": 50,
     "metadata": {},
     "output_type": "execute_result"
    },
    {
     "data": {
      "image/png": "[encoded data removed]",
      "text/plain": [
       "<Figure size 432x288 with 1 Axes>"
      ]
     },
     "metadata": {
      "needs_background": "light"
     },
     "output_type": "display_data"
    }
   ],
   "source": [
    "sns.countplot(x= 'Category',data = data)"
   ]
  },
  {
   "cell_type": "markdown",
   "metadata": {},
   "source": [
    "# **Vertorize tweets**"
   ]
  },
  {
   "cell_type": "code",
   "execution_count": 119,
   "metadata": {},
   "outputs": [
    {
     "name": "stderr",
     "output_type": "stream",
     "text": [
      "[nltk_data] Downloading package punkt to /home/jaroslaw/nltk_data...\n",
      "[nltk_data]   Package punkt is already up-to-date!\n",
      "[nltk_data] Downloading package wordnet to /home/jaroslaw/nltk_data...\n",
      "[nltk_data]   Package wordnet is already up-to-date!\n"
     ]
    }
   ],
   "source": [
    "import nltk\n",
    "nltk.download('punkt')\n",
    "nltk.download('wordnet')\n",
    "import re\n",
    "from nltk.corpus import stopwords\n",
    "from nltk.stem.wordnet import WordNetLemmatizer\n",
    "import math"
   ]
  },
  {
   "cell_type": "markdown",
   "metadata": {},
   "source": [
    "**Clean tweet method**"
   ]
  },
  {
   "cell_type": "code",
   "execution_count": 81,
   "metadata": {},
   "outputs": [],
   "source": [
    "def clean_tweet(tweet):\n",
    "    tweet_list = [ele for ele in tweet.lower().split()]\n",
    "    clean_tokens = [t for t in tweet_list if re.match(r'[^\\W\\d]*$', t)]\n",
    "    clean_s = ' '.join(clean_tokens)\n",
    "    clean_mess = [word for word in clean_s.split() if word.lower() not in stopwords.words('english')]\n",
    "    return clean_mess"
   ]
  },
  {
   "cell_type": "markdown",
   "metadata": {},
   "source": [
    "**Normalization tokens method**"
   ]
  },
  {
   "cell_type": "code",
   "execution_count": 96,
   "metadata": {},
   "outputs": [],
   "source": [
    "def normalization(clean_tokens):\n",
    "        lem = WordNetLemmatizer()\n",
    "        normalized_tweet = []\n",
    "        for tokens in clean_tokens:\n",
    "            normalized_text = lem.lemmatize(tokens,'v')\n",
    "            normalized_tweet.append(normalized_text)\n",
    "        return normalized_tweet"
   ]
  },
  {
   "cell_type": "code",
   "execution_count": 85,
   "metadata": {},
   "outputs": [],
   "source": [
    "clean_tokens = [[item['Id'], clean_tweet(item['Tweet'].lower())] for (index, item) in data.iterrows()]"
   ]
  },
  {
   "cell_type": "code",
   "execution_count": 86,
   "metadata": {},
   "outputs": [
    {
     "name": "stdout",
     "output_type": "stream",
     "text": [
      "['6,36440904967062E+017', ['parkrun', 'app', 'ios', 'downloaded', 'app', 'easier', 'access', 'info', 'ready', 'run']]\n"
     ]
    }
   ],
   "source": [
    "print(clean_tokens[10])"
   ]
  },
  {
   "cell_type": "code",
   "execution_count": 98,
   "metadata": {},
   "outputs": [],
   "source": [
    "normalize_tokens = [[id, normalization(tokens)] for (id, tokens) in clean_tokens]"
   ]
  },
  {
   "cell_type": "code",
   "execution_count": 99,
   "metadata": {},
   "outputs": [
    {
     "name": "stdout",
     "output_type": "stream",
     "text": [
      "['6,36440904967062E+017', ['parkrun', 'app', 'ios', 'download', 'app', 'easier', 'access', 'info', 'ready', 'run']]\n"
     ]
    }
   ],
   "source": [
    "print(normalize_tokens[10])"
   ]
  },
  {
   "cell_type": "markdown",
   "metadata": {},
   "source": [
    "**Get unique tokens method**"
   ]
  },
  {
   "cell_type": "code",
   "execution_count": 108,
   "metadata": {},
   "outputs": [],
   "source": [
    "def unique_tokens(token_list):\n",
    "    token_set = set()\n",
    "    for (id, tokens) in token_list:\n",
    "        for item in tokens:\n",
    "            token_set.add(item)\n",
    "    return token_set"
   ]
  },
  {
   "cell_type": "code",
   "execution_count": 109,
   "metadata": {},
   "outputs": [
    {
     "name": "stdout",
     "output_type": "stream",
     "text": [
      "7073\n"
     ]
    }
   ],
   "source": [
    "print(len(unique_tokens(normalize_tokens)))"
   ]
  },
  {
   "cell_type": "code",
   "execution_count": 122,
   "metadata": {},
   "outputs": [],
   "source": [
    "unique_set = unique_tokens(normalize_tokens)\n",
    "pattern_unique_map = {item: 0 for item in unique_set} \n",
    "# print(pattern_unique_map)\n",
    "# new_map = pattern_unique_map.copy()\n",
    "# new_map['prosecutor'] = new_map['prosecutor'] + 1\n",
    "# print(patter_unique_map['prosecutor'])\n",
    "# print(new_map['prosecutor'])"
   ]
  },
  {
   "cell_type": "markdown",
   "metadata": {},
   "source": [
    "**Count idf for token and tokens_list method**"
   ]
  },
  {
   "cell_type": "code",
   "execution_count": 123,
   "metadata": {},
   "outputs": [],
   "source": [
    "def count_idf(token, tokens_list):\n",
    "    number_of_documents = len(tokens_list)\n",
    "    term_in_documents = 0\n",
    "    for (id, tokens) in tokens_list:\n",
    "        for t in tokens:\n",
    "            if t == token:\n",
    "                term_in_documents += 1\n",
    "                break\n",
    "    return math.log2(number_of_documents/term_in_documents)"
   ]
  },
  {
   "cell_type": "markdown",
   "metadata": {},
   "source": [
    "**Test count_idf for a few words**"
   ]
  },
  {
   "cell_type": "code",
   "execution_count": 125,
   "metadata": {},
   "outputs": [
    {
     "name": "stdout",
     "output_type": "stream",
     "text": [
      "12.543273538449803\n",
      "10.958311037728647\n",
      "10.221345443562441\n",
      "6.100330042601075\n",
      "8.543273538449803\n"
     ]
    }
   ],
   "source": [
    "print(count_idf('prosecutor', normalize_tokens))\n",
    "print(count_idf('bye', normalize_tokens))\n",
    "print(count_idf('general', normalize_tokens))\n",
    "print(count_idf('much', normalize_tokens))\n",
    "print(count_idf('baby', normalize_tokens))"
   ]
  },
  {
   "cell_type": "markdown",
   "metadata": {},
   "source": [
    "**Count idfs for all unique tokens**"
   ]
  },
  {
   "cell_type": "code",
   "execution_count": 126,
   "metadata": {},
   "outputs": [],
   "source": [
    "idf_list = [count_idf(item, normalize_tokens) for item in unique_set]"
   ]
  }
 ],
 "metadata": {
  "kernelspec": {
   "display_name": "Python 3",
   "language": "python",
   "name": "python3"
  },
  "language_info": {
   "codemirror_mode": {
    "name": "ipython",
    "version": 3
   },
   "file_extension": ".py",
   "mimetype": "text/x-python",
   "name": "python",
   "nbconvert_exporter": "python",
   "pygments_lexer": "ipython3",
   "version": "3.6.9"
  }
 },
 "nbformat": 4,
 "nbformat_minor": 2
}
