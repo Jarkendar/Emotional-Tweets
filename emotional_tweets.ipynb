{
 "cells": [
  {
   "cell_type": "markdown",
   "metadata": {},
   "source": [
    "# **Read dataset**"
   ]
  },
  {
   "cell_type": "code",
   "execution_count": 1,
   "metadata": {},
   "outputs": [],
   "source": [
    "path_train = './data/train.csv'\n",
    "path_test = './data/test.csv'\n",
    "path_example_out = './data/sample_submission.csv'"
   ]
  },
  {
   "cell_type": "code",
   "execution_count": 2,
   "metadata": {},
   "outputs": [],
   "source": [
    "import pandas as pd"
   ]
  },
  {
   "cell_type": "code",
   "execution_count": 3,
   "metadata": {},
   "outputs": [
    {
     "name": "stdout",
     "output_type": "stream",
     "text": [
      "                      Id  Category  \\\n",
      "0  6,35769805279248E+017  negative   \n",
      "1  6,35930169241375E+017   neutral   \n",
      "2  6,35950258682524E+017   neutral   \n",
      "3  6,36030803433009E+017  negative   \n",
      "4  6,36100906224849E+017  positive   \n",
      "5  6,36176272947745E+017   neutral   \n",
      "\n",
      "                                               Tweet  \n",
      "0                                      Not Available  \n",
      "1  IOS 9 App Transport Security. Mm need to check...  \n",
      "2  Mar if you have an iOS device, you should down...  \n",
      "3  @jimmie_vanagon my phone does not run on lates...  \n",
      "4  Not sure how to start your publication on iOS?...  \n",
      "5  Two Dollar Tuesday is here with Forklift 2, Qu...  \n"
     ]
    }
   ],
   "source": [
    "data = pd.read_csv(path_train)\n",
    "print(data[:6])"
   ]
  },
  {
   "cell_type": "markdown",
   "metadata": {},
   "source": [
    "# **Analyse**"
   ]
  },
  {
   "cell_type": "code",
   "execution_count": 4,
   "metadata": {},
   "outputs": [],
   "source": [
    "import seaborn as sns"
   ]
  },
  {
   "cell_type": "code",
   "execution_count": 5,
   "metadata": {},
   "outputs": [
    {
     "data": {
      "text/plain": [
       "<matplotlib.axes._subplots.AxesSubplot at 0x7f325d011b70>"
      ]
     },
     "execution_count": 5,
     "metadata": {},
     "output_type": "execute_result"
    },
    {
     "data": {
      "image/png": "[encoded data removed]",
      "text/plain": [
       "<Figure size 432x288 with 1 Axes>"
      ]
     },
     "metadata": {
      "needs_background": "light"
     },
     "output_type": "display_data"
    }
   ],
   "source": [
    "sns.countplot(x= 'Category',data = data)"
   ]
  },
  {
   "cell_type": "markdown",
   "metadata": {},
   "source": [
    "# **Vertorize tweets**"
   ]
  },
  {
   "cell_type": "code",
   "execution_count": 6,
   "metadata": {},
   "outputs": [
    {
     "name": "stderr",
     "output_type": "stream",
     "text": [
      "[nltk_data] Downloading package punkt to /home/jaroslaw/nltk_data...\n",
      "[nltk_data]   Package punkt is already up-to-date!\n",
      "[nltk_data] Downloading package wordnet to /home/jaroslaw/nltk_data...\n",
      "[nltk_data]   Package wordnet is already up-to-date!\n"
     ]
    }
   ],
   "source": [
    "import nltk\n",
    "nltk.download('punkt')\n",
    "nltk.download('wordnet')\n",
    "import re\n",
    "from nltk.corpus import stopwords\n",
    "from nltk.stem.wordnet import WordNetLemmatizer\n",
    "import math"
   ]
  },
  {
   "cell_type": "markdown",
   "metadata": {},
   "source": [
    "**Clean tweet method**"
   ]
  },
  {
   "cell_type": "code",
   "execution_count": 7,
   "metadata": {},
   "outputs": [],
   "source": [
    "def clean_tweet(tweet):\n",
    "    tweet_list = [ele for ele in tweet.lower().split()]\n",
    "    clean_tokens = [t for t in tweet_list if re.match(r'[^\\W\\d]*$', t)]\n",
    "    clean_s = ' '.join(clean_tokens)\n",
    "    clean_mess = [word for word in clean_s.split() if word.lower() not in stopwords.words('english')]\n",
    "    return clean_mess"
   ]
  },
  {
   "cell_type": "markdown",
   "metadata": {},
   "source": [
    "**Normalization tokens method**"
   ]
  },
  {
   "cell_type": "code",
   "execution_count": 8,
   "metadata": {},
   "outputs": [],
   "source": [
    "def normalization(clean_tokens):\n",
    "        lem = WordNetLemmatizer()\n",
    "        normalized_tweet = []\n",
    "        for tokens in clean_tokens:\n",
    "            normalized_text = lem.lemmatize(tokens,'v')\n",
    "            normalized_tweet.append(normalized_text)\n",
    "        return normalized_tweet"
   ]
  },
  {
   "cell_type": "code",
   "execution_count": 16,
   "metadata": {},
   "outputs": [],
   "source": [
    "clean_tokens = [[item['Id'], clean_tweet(item['Tweet'].lower())] for (index, item) in data.iterrows()]"
   ]
  },
  {
   "cell_type": "code",
   "execution_count": 17,
   "metadata": {},
   "outputs": [
    {
     "name": "stdout",
     "output_type": "stream",
     "text": [
      "['6,36440904967062E+017', ['parkrun', 'app', 'ios', 'downloaded', 'app', 'easier', 'access', 'info', 'ready', 'run']]\n"
     ]
    }
   ],
   "source": [
    "print(clean_tokens[10])"
   ]
  },
  {
   "cell_type": "code",
   "execution_count": 18,
   "metadata": {},
   "outputs": [],
   "source": [
    "normalize_tokens = [[id, normalization(tokens)] for (id, tokens) in clean_tokens]"
   ]
  },
  {
   "cell_type": "code",
   "execution_count": 19,
   "metadata": {},
   "outputs": [
    {
     "name": "stdout",
     "output_type": "stream",
     "text": [
      "['6,36440904967062E+017', ['parkrun', 'app', 'ios', 'download', 'app', 'easier', 'access', 'info', 'ready', 'run']]\n"
     ]
    }
   ],
   "source": [
    "print(normalize_tokens[10])"
   ]
  },
  {
   "cell_type": "markdown",
   "metadata": {},
   "source": [
    "**Get unique tokens method**"
   ]
  },
  {
   "cell_type": "code",
   "execution_count": 20,
   "metadata": {},
   "outputs": [],
   "source": [
    "def unique_tokens(token_list):\n",
    "    token_set = set()\n",
    "    for (id, tokens) in token_list:\n",
    "        for item in tokens:\n",
    "            token_set.add(item)\n",
    "    return token_set"
   ]
  },
  {
   "cell_type": "code",
   "execution_count": 21,
   "metadata": {},
   "outputs": [
    {
     "name": "stdout",
     "output_type": "stream",
     "text": [
      "7073\n"
     ]
    }
   ],
   "source": [
    "print(len(unique_tokens(normalize_tokens)))"
   ]
  },
  {
   "cell_type": "code",
   "execution_count": 22,
   "metadata": {},
   "outputs": [],
   "source": [
    "unique_set = unique_tokens(normalize_tokens)\n",
    "pattern_unique_map = {item: 0 for item in unique_set} \n",
    "sorted_unique_set = sorted(unique_set)\n",
    "list_unique = list(sorted_unique_set)\n",
    "# print(pattern_unique_map)\n",
    "# new_map = pattern_unique_map.copy()\n",
    "# new_map['prosecutor'] = new_map['prosecutor'] + 1\n",
    "# print(patter_unique_map['prosecutor'])\n",
    "# print(new_map['prosecutor'])"
   ]
  },
  {
   "cell_type": "markdown",
   "metadata": {},
   "source": [
    "**Count idf for token and tokens_list method**"
   ]
  },
  {
   "cell_type": "code",
   "execution_count": 23,
   "metadata": {},
   "outputs": [],
   "source": [
    "def count_idf(token, tokens_list):\n",
    "    number_of_documents = len(tokens_list)\n",
    "    term_in_documents = 0\n",
    "    for (id, tokens) in tokens_list:\n",
    "        for t in tokens:\n",
    "            if t == token:\n",
    "                term_in_documents += 1\n",
    "                break\n",
    "    return math.log2(number_of_documents/term_in_documents)"
   ]
  },
  {
   "cell_type": "markdown",
   "metadata": {},
   "source": [
    "**Test count_idf for a few words**"
   ]
  },
  {
   "cell_type": "code",
   "execution_count": 24,
   "metadata": {},
   "outputs": [
    {
     "name": "stdout",
     "output_type": "stream",
     "text": [
      "12.543273538449803\n",
      "10.958311037728647\n",
      "10.221345443562441\n",
      "6.100330042601075\n",
      "8.543273538449803\n"
     ]
    }
   ],
   "source": [
    "print(count_idf('prosecutor', normalize_tokens))\n",
    "print(count_idf('bye', normalize_tokens))\n",
    "print(count_idf('general', normalize_tokens))\n",
    "print(count_idf('much', normalize_tokens))\n",
    "print(count_idf('baby', normalize_tokens))"
   ]
  },
  {
   "cell_type": "markdown",
   "metadata": {},
   "source": [
    "**Count idfs for all unique tokens**"
   ]
  },
  {
   "cell_type": "code",
   "execution_count": 25,
   "metadata": {},
   "outputs": [],
   "source": [
    "idf_list = pd.DataFrame(\n",
    "    [count_idf(item, normalize_tokens) \n",
    "     for item in sorted_unique_set], \n",
    "    index=list_unique, \n",
    "    columns=['Values'])"
   ]
  },
  {
   "cell_type": "code",
   "execution_count": 26,
   "metadata": {},
   "outputs": [
    {
     "name": "stdout",
     "output_type": "stream",
     "text": [
      "            Values\n",
      "aa       11.543274\n",
      "aaa      12.543274\n",
      "ab       12.543274\n",
      "abandon  11.543274\n",
      "abbott   12.543274\n"
     ]
    }
   ],
   "source": [
    "print(idf_list.head())"
   ]
  },
  {
   "cell_type": "markdown",
   "metadata": {},
   "source": [
    "**Count tf for term vector**"
   ]
  },
  {
   "cell_type": "code",
   "execution_count": 52,
   "metadata": {},
   "outputs": [],
   "source": [
    "def count_tf_vector(term_vector):\n",
    "    tf_vector_map = pattern_unique_map.copy()\n",
    "    for term in term_vector:\n",
    "        if term in tf_vector_map:\n",
    "            tf_vector_map[term] += 1\n",
    "    return pd.DataFrame(\n",
    "        [value for key, value in iter(sorted(tf_vector_map.items()))], \n",
    "        index=list(sorted_unique_set),\n",
    "        columns=['Values'])"
   ]
  },
  {
   "cell_type": "markdown",
   "metadata": {},
   "source": [
    "**Multiply tf x idf**"
   ]
  },
  {
   "cell_type": "code",
   "execution_count": 28,
   "metadata": {},
   "outputs": [],
   "source": [
    "def multiply_tf_idf(tf_df, idf_df):\n",
    "    return tf_df.mul(idf_df)"
   ]
  },
  {
   "cell_type": "markdown",
   "metadata": {},
   "source": [
    "# **Prepare data to train**"
   ]
  },
  {
   "cell_type": "code",
   "execution_count": 29,
   "metadata": {},
   "outputs": [],
   "source": [
    "def transform_tweet(tweet):\n",
    "    return count_tf_vector(normalization(clean_tweet(tweet.lower())))    "
   ]
  },
  {
   "cell_type": "code",
   "execution_count": 30,
   "metadata": {},
   "outputs": [],
   "source": [
    "train_data = [\n",
    "    [item['Id'], \n",
    "     item['Category'], \n",
    "     pd.DataFrame(multiply_tf_idf(transform_tweet(item['Tweet'].lower()), idf_list).transpose(), columns=list_unique)] \n",
    "              for (index, item) in data.iterrows()]"
   ]
  },
  {
   "cell_type": "code",
   "execution_count": 31,
   "metadata": {
    "scrolled": true
   },
   "outputs": [],
   "source": [
    "train_vectors = pd.concat([df for (id, label, df) in train_data])\n",
    "train_vectors.index = [id for (id, label, df) in train_data]\n",
    "\n",
    "train_label = pd.DataFrame([label for (id, label, df) in train_data], index=[id for (id, label, df) in train_data], columns=['labels'])"
   ]
  },
  {
   "cell_type": "markdown",
   "metadata": {},
   "source": [
    "# **Dimensional reduction**"
   ]
  },
  {
   "cell_type": "code",
   "execution_count": 32,
   "metadata": {},
   "outputs": [],
   "source": [
    "from sklearn.decomposition import PCA"
   ]
  },
  {
   "cell_type": "code",
   "execution_count": 33,
   "metadata": {},
   "outputs": [
    {
     "name": "stdout",
     "output_type": "stream",
     "text": [
      "original shape:    (5969, 7073)\n",
      "transformed shape: (5969, 500)\n"
     ]
    }
   ],
   "source": [
    "pca = PCA(n_components=500)\n",
    "pca.fit(train_vectors)\n",
    "X_pca = pca.transform(train_vectors)\n",
    "print(\"original shape:   \", train_vectors.shape)\n",
    "print(\"transformed shape:\", X_pca.shape)"
   ]
  },
  {
   "cell_type": "markdown",
   "metadata": {},
   "source": [
    "# **Divide to test and train set**"
   ]
  },
  {
   "cell_type": "code",
   "execution_count": 34,
   "metadata": {},
   "outputs": [],
   "source": [
    "from sklearn.model_selection import train_test_split"
   ]
  },
  {
   "cell_type": "code",
   "execution_count": 35,
   "metadata": {},
   "outputs": [],
   "source": [
    "X_train, X_test, y_train, y_test = train_test_split(X_pca, train_label, test_size=0.1, random_state=123)"
   ]
  },
  {
   "cell_type": "code",
   "execution_count": 36,
   "metadata": {},
   "outputs": [
    {
     "name": "stdout",
     "output_type": "stream",
     "text": [
      "(5372, 500)\n",
      "(597, 500)\n",
      "(5372, 1)\n",
      "(597, 1)\n"
     ]
    }
   ],
   "source": [
    "print(X_train.shape)\n",
    "print(X_test.shape)\n",
    "print(y_train.shape)\n",
    "print(y_test.shape)"
   ]
  },
  {
   "cell_type": "markdown",
   "metadata": {},
   "source": [
    "# **Train classifier**"
   ]
  },
  {
   "cell_type": "code",
   "execution_count": 37,
   "metadata": {},
   "outputs": [],
   "source": [
    "from sklearn.ensemble import RandomForestClassifier"
   ]
  },
  {
   "cell_type": "code",
   "execution_count": 89,
   "metadata": {},
   "outputs": [],
   "source": [
    "random_forest = RandomForestClassifier(n_estimators = 1000, \n",
    "                                       random_state = 123, \n",
    "                                       n_jobs=-1, \n",
    "                                       verbose=1)"
   ]
  },
  {
   "cell_type": "code",
   "execution_count": 90,
   "metadata": {},
   "outputs": [
    {
     "name": "stderr",
     "output_type": "stream",
     "text": [
      "/usr/local/lib/python3.6/dist-packages/ipykernel_launcher.py:1: DataConversionWarning: A column-vector y was passed when a 1d array was expected. Please change the shape of y to (n_samples,), for example using ravel().\n",
      "  \"\"\"Entry point for launching an IPython kernel.\n",
      "[Parallel(n_jobs=-1)]: Using backend ThreadingBackend with 4 concurrent workers.\n",
      "[Parallel(n_jobs=-1)]: Done  42 tasks      | elapsed:    1.5s\n",
      "[Parallel(n_jobs=-1)]: Done 192 tasks      | elapsed:    6.7s\n",
      "[Parallel(n_jobs=-1)]: Done 442 tasks      | elapsed:   15.2s\n",
      "[Parallel(n_jobs=-1)]: Done 792 tasks      | elapsed:   27.3s\n",
      "[Parallel(n_jobs=-1)]: Done 1000 out of 1000 | elapsed:   34.4s finished\n"
     ]
    },
    {
     "data": {
      "text/plain": [
       "RandomForestClassifier(bootstrap=True, ccp_alpha=0.0, class_weight=None,\n",
       "                       criterion='gini', max_depth=None, max_features='sqrt',\n",
       "                       max_leaf_nodes=None, max_samples=None,\n",
       "                       min_impurity_decrease=0.0, min_impurity_split=None,\n",
       "                       min_samples_leaf=1, min_samples_split=2,\n",
       "                       min_weight_fraction_leaf=0.0, n_estimators=1000,\n",
       "                       n_jobs=-1, oob_score=False, random_state=123, verbose=1,\n",
       "                       warm_start=False)"
      ]
     },
     "execution_count": 90,
     "metadata": {},
     "output_type": "execute_result"
    }
   ],
   "source": [
    "random_forest.fit(X_train, y_train)"
   ]
  },
  {
   "cell_type": "markdown",
   "metadata": {},
   "source": [
    "# **Predict**"
   ]
  },
  {
   "cell_type": "code",
   "execution_count": 40,
   "metadata": {},
   "outputs": [],
   "source": [
    "from sklearn import datasets, metrics\n",
    "import matplotlib.pyplot as plt"
   ]
  },
  {
   "cell_type": "code",
   "execution_count": 91,
   "metadata": {},
   "outputs": [
    {
     "name": "stderr",
     "output_type": "stream",
     "text": [
      "[Parallel(n_jobs=4)]: Using backend ThreadingBackend with 4 concurrent workers.\n",
      "[Parallel(n_jobs=4)]: Done  42 tasks      | elapsed:    0.0s\n",
      "[Parallel(n_jobs=4)]: Done 192 tasks      | elapsed:    0.1s\n",
      "[Parallel(n_jobs=4)]: Done 442 tasks      | elapsed:    0.2s\n",
      "[Parallel(n_jobs=4)]: Done 792 tasks      | elapsed:    0.3s\n",
      "[Parallel(n_jobs=4)]: Done 1000 out of 1000 | elapsed:    0.3s finished\n"
     ]
    }
   ],
   "source": [
    "y_pred = random_forest.predict(X_test)"
   ]
  },
  {
   "cell_type": "code",
   "execution_count": 42,
   "metadata": {},
   "outputs": [
    {
     "data": {
      "image/png": "[encoded data removed]",
      "text/plain": [
       "<Figure size 432x288 with 2 Axes>"
      ]
     },
     "metadata": {
      "needs_background": "light"
     },
     "output_type": "display_data"
    }
   ],
   "source": [
    "conf_matrix = metrics.confusion_matrix(y_test, y_pred, labels=y_train['labels'].unique())\n",
    "\n",
    "df = pd.DataFrame(conf_matrix, index=y_train['labels'].unique(), columns=y_train['labels'].unique())\n",
    "sns.heatmap(df, annot=True, fmt='g')\n",
    "plt.title('Macierz pomyłek klas.')\n",
    "plt.xlabel('Klasa przewidywana')\n",
    "plt.ylabel('Klasa poprawna')\n",
    "plt.show()"
   ]
  },
  {
   "cell_type": "code",
   "execution_count": 43,
   "metadata": {},
   "outputs": [
    {
     "name": "stderr",
     "output_type": "stream",
     "text": [
      "[Parallel(n_jobs=4)]: Using backend ThreadingBackend with 4 concurrent workers.\n",
      "[Parallel(n_jobs=4)]: Done  42 tasks      | elapsed:    0.1s\n",
      "[Parallel(n_jobs=4)]: Done 192 tasks      | elapsed:    0.2s\n",
      "[Parallel(n_jobs=4)]: Done 442 tasks      | elapsed:    0.4s\n",
      "[Parallel(n_jobs=4)]: Done 792 tasks      | elapsed:    0.6s\n",
      "[Parallel(n_jobs=4)]: Done 1000 out of 1000 | elapsed:    0.8s finished\n",
      "[Parallel(n_jobs=4)]: Using backend ThreadingBackend with 4 concurrent workers.\n"
     ]
    },
    {
     "name": "stdout",
     "output_type": "stream",
     "text": [
      "Train accuracy =  0.9549516008935219\n"
     ]
    },
    {
     "name": "stderr",
     "output_type": "stream",
     "text": [
      "[Parallel(n_jobs=4)]: Done  42 tasks      | elapsed:    0.0s\n",
      "[Parallel(n_jobs=4)]: Done 192 tasks      | elapsed:    0.1s\n",
      "[Parallel(n_jobs=4)]: Done 442 tasks      | elapsed:    0.2s\n"
     ]
    },
    {
     "name": "stdout",
     "output_type": "stream",
     "text": [
      "Test accuracy =  0.5611390284757118\n"
     ]
    },
    {
     "name": "stderr",
     "output_type": "stream",
     "text": [
      "[Parallel(n_jobs=4)]: Done 792 tasks      | elapsed:    0.3s\n",
      "[Parallel(n_jobs=4)]: Done 1000 out of 1000 | elapsed:    0.4s finished\n"
     ]
    }
   ],
   "source": [
    "print(\"Train accuracy = \", random_forest.score(X_train, y_train))\n",
    "print(\"Test accuracy = \", random_forest.score(X_test, y_test))"
   ]
  },
  {
   "cell_type": "code",
   "execution_count": 92,
   "metadata": {},
   "outputs": [
    {
     "data": {
      "image/png": "[encoded data removed]",
      "text/plain": [
       "<Figure size 432x288 with 2 Axes>"
      ]
     },
     "metadata": {
      "needs_background": "light"
     },
     "output_type": "display_data"
    }
   ],
   "source": [
    "conf_matrix = metrics.confusion_matrix(y_test, y_pred, labels=y_train['labels'].unique())\n",
    "\n",
    "df = pd.DataFrame(conf_matrix, index=y_train['labels'].unique(), columns=y_train['labels'].unique())\n",
    "sns.heatmap(df, annot=True, fmt='g')\n",
    "plt.title('Macierz pomyłek klas.')\n",
    "plt.xlabel('Klasa przewidywana')\n",
    "plt.ylabel('Klasa poprawna')\n",
    "plt.show()"
   ]
  },
  {
   "cell_type": "code",
   "execution_count": 93,
   "metadata": {},
   "outputs": [
    {
     "name": "stderr",
     "output_type": "stream",
     "text": [
      "[Parallel(n_jobs=4)]: Using backend ThreadingBackend with 4 concurrent workers.\n",
      "[Parallel(n_jobs=4)]: Done  42 tasks      | elapsed:    0.1s\n",
      "[Parallel(n_jobs=4)]: Done 192 tasks      | elapsed:    0.2s\n",
      "[Parallel(n_jobs=4)]: Done 442 tasks      | elapsed:    0.4s\n",
      "[Parallel(n_jobs=4)]: Done 792 tasks      | elapsed:    0.6s\n",
      "[Parallel(n_jobs=4)]: Done 1000 out of 1000 | elapsed:    0.8s finished\n",
      "[Parallel(n_jobs=4)]: Using backend ThreadingBackend with 4 concurrent workers.\n",
      "[Parallel(n_jobs=4)]: Done  42 tasks      | elapsed:    0.0s\n"
     ]
    },
    {
     "name": "stdout",
     "output_type": "stream",
     "text": [
      "Train accuracy =  0.9549516008935219\n"
     ]
    },
    {
     "name": "stderr",
     "output_type": "stream",
     "text": [
      "[Parallel(n_jobs=4)]: Done 192 tasks      | elapsed:    0.1s\n",
      "[Parallel(n_jobs=4)]: Done 442 tasks      | elapsed:    0.1s\n"
     ]
    },
    {
     "name": "stdout",
     "output_type": "stream",
     "text": [
      "Test accuracy =  0.5611390284757118\n"
     ]
    },
    {
     "name": "stderr",
     "output_type": "stream",
     "text": [
      "[Parallel(n_jobs=4)]: Done 792 tasks      | elapsed:    0.3s\n",
      "[Parallel(n_jobs=4)]: Done 1000 out of 1000 | elapsed:    0.3s finished\n"
     ]
    }
   ],
   "source": [
    "print(\"Train accuracy = \", random_forest.score(X_train, y_train))\n",
    "print(\"Test accuracy = \", random_forest.score(X_test, y_test))"
   ]
  },
  {
   "cell_type": "markdown",
   "metadata": {},
   "source": [
    "# **Prepare results**"
   ]
  },
  {
   "cell_type": "code",
   "execution_count": 50,
   "metadata": {},
   "outputs": [
    {
     "name": "stdout",
     "output_type": "stream",
     "text": [
      "                   Id                                              Tweet\n",
      "0  628949369883000832  dear @Microsoft the newOoffice for Mac is grea...\n",
      "1  628976607420645377  @Microsoft how about you make a system that do...\n",
      "2  629023169169518592                                      Not Available\n",
      "3  629179223232479232                                      Not Available\n",
      "4  629186282179153920  If I make a game as a #windows10 Universal App...\n",
      "5  629226490152914944  Microsoft, I may not prefer your gaming branch...\n",
      "<class 'pandas.core.frame.DataFrame'>\n",
      "(4000, 2)\n"
     ]
    }
   ],
   "source": [
    "test_csv = pd.read_csv(path_test, nrows=4000)\n",
    "print(test_csv[:6])\n",
    "print(type(test_csv))\n",
    "print(test_csv.shape)"
   ]
  },
  {
   "cell_type": "code",
   "execution_count": 53,
   "metadata": {},
   "outputs": [
    {
     "name": "stdout",
     "output_type": "stream",
     "text": [
      "original shape:    (4000, 7073)\n",
      "transformed shape: (4000, 500)\n"
     ]
    }
   ],
   "source": [
    "test_data = [\n",
    "    [item['Id'], \n",
    "     pd.DataFrame(multiply_tf_idf(transform_tweet(item['Tweet'].lower()), idf_list).transpose(), columns=list_unique)] \n",
    "              for (index, item) in test_csv.iterrows()]\n",
    "test_vectors = pd.concat([df for (id, df) in test_data])\n",
    "test_vectors.index = [id for (id, df) in test_data]\n",
    "X_test_pca = pca.transform(test_vectors)\n",
    "print(\"original shape:   \", test_vectors.shape)\n",
    "print(\"transformed shape:\", X_test_pca.shape)"
   ]
  },
  {
   "cell_type": "code",
   "execution_count": 73,
   "metadata": {},
   "outputs": [
    {
     "name": "stderr",
     "output_type": "stream",
     "text": [
      "[Parallel(n_jobs=4)]: Using backend ThreadingBackend with 4 concurrent workers.\n",
      "[Parallel(n_jobs=4)]: Done  42 tasks      | elapsed:    0.0s\n",
      "[Parallel(n_jobs=4)]: Done 192 tasks      | elapsed:    0.1s\n",
      "[Parallel(n_jobs=4)]: Done 442 tasks      | elapsed:    0.3s\n",
      "[Parallel(n_jobs=4)]: Done 792 tasks      | elapsed:    0.5s\n",
      "[Parallel(n_jobs=4)]: Done 1000 out of 1000 | elapsed:    0.6s finished\n"
     ]
    },
    {
     "name": "stdout",
     "output_type": "stream",
     "text": [
      "                    Category\n",
      "Id                          \n",
      "628949369883000832  positive\n",
      "628976607420645377  positive\n",
      "629023169169518592  positive\n",
      "629179223232479232  positive\n",
      "629186282179153920  positive\n",
      "...                      ...\n",
      "641411385700712448  positive\n",
      "641452712098406400  positive\n",
      "635369700298498048   neutral\n",
      "635769805279248384  positive\n",
      "635930169241374720   neutral\n",
      "\n",
      "[4000 rows x 1 columns]\n"
     ]
    }
   ],
   "source": [
    "y_test_pred = pd.DataFrame(random_forest.predict(X_test_pca), columns=['Category'])\n",
    "y_test_pred.index = [id for (id, df) in test_data]\n",
    "y_test_pred.index.name = 'Id'\n",
    "print(y_test_pred)\n",
    "y_test_pred.to_csv('submission.csv')"
   ]
  },
  {
   "cell_type": "code",
   "execution_count": null,
   "metadata": {},
   "outputs": [],
   "source": []
  }
 ],
 "metadata": {
  "kernelspec": {
   "display_name": "Python 3",
   "language": "python",
   "name": "python3"
  },
  "language_info": {
   "codemirror_mode": {
    "name": "ipython",
    "version": 3
   },
   "file_extension": ".py",
   "mimetype": "text/x-python",
   "name": "python",
   "nbconvert_exporter": "python",
   "pygments_lexer": "ipython3",
   "version": "3.6.9"
  }
 },
 "nbformat": 4,
 "nbformat_minor": 2
}
